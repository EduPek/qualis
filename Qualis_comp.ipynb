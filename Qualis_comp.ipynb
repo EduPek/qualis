{
  "nbformat": 4,
  "nbformat_minor": 0,
  "metadata": {
    "colab": {
      "provenance": [],
      "authorship_tag": "ABX9TyPZRbD58qRCDe48hKabV5Os",
      "include_colab_link": true
    },
    "kernelspec": {
      "name": "python3",
      "display_name": "Python 3"
    },
    "language_info": {
      "name": "python"
    }
  },
  "cells": [
    {
      "cell_type": "markdown",
      "metadata": {
        "id": "view-in-github",
        "colab_type": "text"
      },
      "source": [
        "<a href=\"https://colab.research.google.com/github/EduPek/qualis/blob/main/Qualis_comp.ipynb\" target=\"_parent\"><img src=\"https://colab.research.google.com/assets/colab-badge.svg\" alt=\"Open In Colab\"/></a>"
      ]
    },
    {
      "cell_type": "code",
      "execution_count": 1,
      "metadata": {
        "id": "z-2YZqfbxW-d"
      },
      "outputs": [],
      "source": [
        "import pandas as pd"
      ]
    },
    {
      "cell_type": "code",
      "source": [
        "E3 = pd.read_excel(\"classificacoes_publicadas_administracao_publica_e_de_empresas_ciencias_contabeis_e_turismo_2022_1672761148661.xlsx\")\n",
        "ADM = pd.read_excel(\"classificacoes_publicadas_engenharias_iii_2022_1672761167379.xlsx\")"
      ],
      "metadata": {
        "colab": {
          "base_uri": "https://localhost:8080/"
        },
        "id": "wPflMAafzhGx",
        "outputId": "98e48f4f-a33f-4c4a-b4d0-4fb6a1e756ce"
      },
      "execution_count": 4,
      "outputs": [
        {
          "output_type": "stream",
          "name": "stderr",
          "text": [
            "/usr/local/lib/python3.8/dist-packages/openpyxl/styles/stylesheet.py:226: UserWarning: Workbook contains no default style, apply openpyxl's default\n",
            "  warn(\"Workbook contains no default style, apply openpyxl's default\")\n"
          ]
        }
      ]
    },
    {
      "cell_type": "code",
      "source": [
        "E3_issn = E3[\"ISSN\"].tolist()\n",
        "ADM2 = ADM[ADM[\"ISSN\"].isin(E3_issn )]"
      ],
      "metadata": {
        "id": "lIAXrX6b0Jem"
      },
      "execution_count": 15,
      "outputs": []
    },
    {
      "cell_type": "code",
      "source": [
        "ADM_issn = ADM[\"ISSN\"].tolist()\n",
        "E3_2 = E3[E3[\"ISSN\"].isin(ADM_issn)]"
      ],
      "metadata": {
        "id": "Vxhw_XUI0bLk"
      },
      "execution_count": 13,
      "outputs": []
    },
    {
      "cell_type": "code",
      "source": [
        "ADM_E3 = pd.concat([E3_2, ADM2])\n",
        "ADM_E3 = ADM_E3.drop_duplicates()"
      ],
      "metadata": {
        "id": "Rf-2UXeN1CN0"
      },
      "execution_count": 18,
      "outputs": []
    },
    {
      "cell_type": "code",
      "source": [
        "ADM_E3.shape"
      ],
      "metadata": {
        "colab": {
          "base_uri": "https://localhost:8080/"
        },
        "id": "oAh2Ec-c14SR",
        "outputId": "e5b5d671-c6ca-4632-dc49-128382a1ffbb"
      },
      "execution_count": 20,
      "outputs": [
        {
          "output_type": "execute_result",
          "data": {
            "text/plain": [
              "(1589, 3)"
            ]
          },
          "metadata": {},
          "execution_count": 20
        }
      ]
    },
    {
      "cell_type": "code",
      "source": [
        "ADM.shape"
      ],
      "metadata": {
        "colab": {
          "base_uri": "https://localhost:8080/"
        },
        "id": "VcbDlabh16hp",
        "outputId": "c7b423fa-421e-4297-dfc8-fc4523359cff"
      },
      "execution_count": 21,
      "outputs": [
        {
          "output_type": "execute_result",
          "data": {
            "text/plain": [
              "(4170, 3)"
            ]
          },
          "metadata": {},
          "execution_count": 21
        }
      ]
    },
    {
      "cell_type": "code",
      "source": [
        "E3.shape"
      ],
      "metadata": {
        "colab": {
          "base_uri": "https://localhost:8080/"
        },
        "id": "S7auEjrQ2Gb8",
        "outputId": "10f0b466-2ac6-4014-f8a9-aca2d517cf4a"
      },
      "execution_count": 22,
      "outputs": [
        {
          "output_type": "execute_result",
          "data": {
            "text/plain": [
              "(5235, 3)"
            ]
          },
          "metadata": {},
          "execution_count": 22
        }
      ]
    },
    {
      "cell_type": "code",
      "source": [
        "ADM_E3.to_excel(\"ADM_E3.xlsx\") "
      ],
      "metadata": {
        "id": "0TiNyCfS2Hrp"
      },
      "execution_count": 23,
      "outputs": []
    }
  ]
}